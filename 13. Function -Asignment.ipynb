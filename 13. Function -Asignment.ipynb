{
 "cells": [
  {
   "cell_type": "code",
   "execution_count": 17,
   "id": "7b752007",
   "metadata": {},
   "outputs": [],
   "source": [
    "def subfield():\n",
    "    print(\"Sub-field in AI are:\")\n",
    "    message=\"Sub-field in AI are:\"\n",
    "    print(\"Machine learning\")\n",
    "    message=\"Machine learning\"\n",
    "    print(\"Nural network\")\n",
    "    message=\"Nural network\"\n",
    "    print(\"Vision\")\n",
    "    message=\"Vision\"\n",
    "    print(\"Robotics\")\n",
    "    message=\"Robotics\"\n",
    "    print(\"Speech processing\")\n",
    "    message=\"Speech processing\"\n",
    "    print(\"Natural language processing\")\n",
    "    message=\"Natural language processing\"\n",
    "    return subfield\n"
   ]
  },
  {
   "cell_type": "code",
   "execution_count": 18,
   "id": "e55e8b15",
   "metadata": {},
   "outputs": [
    {
     "name": "stdout",
     "output_type": "stream",
     "text": [
      "Sub-field in AI are:\n",
      "Machine learning\n",
      "Nural network\n",
      "Vision\n",
      "Robotics\n",
      "Speech processing\n",
      "Natural language processing\n"
     ]
    }
   ],
   "source": [
    "subfield=subfield()"
   ]
  },
  {
   "cell_type": "code",
   "execution_count": 20,
   "id": "106defbf",
   "metadata": {},
   "outputs": [],
   "source": [
    "def OddEven():\n",
    "    num=int(input(\"Enter a number:\"))\n",
    "    if (num%2==0):\n",
    "        print(num, \"is Even number\")\n",
    "        message=\"num is Even number\"\n",
    "    else:\n",
    "        print(num, \"is odd number\")\n",
    "        message=\"num is Odd number\"\n",
    "        return message"
   ]
  },
  {
   "cell_type": "code",
   "execution_count": 21,
   "id": "08fc5ee9",
   "metadata": {},
   "outputs": [
    {
     "name": "stdout",
     "output_type": "stream",
     "text": [
      "Enter a number:52452\n",
      "52452 is Even number\n"
     ]
    }
   ],
   "source": [
    "OddEven=OddEven()"
   ]
  },
  {
   "cell_type": "code",
   "execution_count": 23,
   "id": "ef5a271a",
   "metadata": {},
   "outputs": [
    {
     "name": "stdout",
     "output_type": "stream",
     "text": [
      "Your gender:Male\n",
      "Your age:20\n",
      " NOT ELIGIBLE\n"
     ]
    }
   ],
   "source": [
    "gender=input(\"Your gender:\")\n",
    "age=int(input(\"Your age:\"))\n",
    "if(gender=='Male'):\n",
    "    if(age>=21):\n",
    "        print(\"ELIGIBLE\")\n",
    "    else:\n",
    "        print(\" NOT ELIGIBLE\")\n",
    "elif(gender=='Female'):\n",
    "    if(age>=18):\n",
    "        print(\"ELIGIBLE\")\n",
    "    else:\n",
    "        print(\"NOT ELIGIBLE\")\n",
    "        "
   ]
  },
  {
   "cell_type": "code",
   "execution_count": 24,
   "id": "5d21e54a",
   "metadata": {},
   "outputs": [],
   "source": [
    "def percentage():\n",
    "    mark1=int(input(\"Subject1=\"))\n",
    "    mark2=int(input(\"Subject2=\"))\n",
    "    mark3=int(input(\"Subject3=\"))\n",
    "    mark4=int(input(\"Subject4=\"))\n",
    "    mark5=int(input(\"Subject5=\"))\n",
    "    total=(mark1+mark2+mark3+mark4+mark5)\n",
    "    print(\"Total:\",total)\n",
    "    message=\"total\"\n",
    "    percentage=(float(total/500)*100)\n",
    "    print(\"Percentage:\",percentage)\n",
    "    message=percentage\n",
    "    return percentage\n"
   ]
  },
  {
   "cell_type": "code",
   "execution_count": 25,
   "id": "9b288f6e",
   "metadata": {},
   "outputs": [
    {
     "name": "stdout",
     "output_type": "stream",
     "text": [
      "Subject1=98\n",
      "Subject2=87\n",
      "Subject3=95\n",
      "Subject4=95\n",
      "Subject5=93\n",
      "Total: 468\n",
      "Percentage: 93.60000000000001\n"
     ]
    }
   ],
   "source": [
    "per=percentage()"
   ]
  },
  {
   "cell_type": "code",
   "execution_count": 26,
   "id": "27102650",
   "metadata": {},
   "outputs": [
    {
     "name": "stdout",
     "output_type": "stream",
     "text": [
      "93.60000000000001\n"
     ]
    }
   ],
   "source": [
    "print(per)"
   ]
  },
  {
   "cell_type": "code",
   "execution_count": 28,
   "id": "4d430c85",
   "metadata": {},
   "outputs": [],
   "source": [
    "def triangle():\n",
    "    Height=int(input(\"Height:\"))\n",
    "    Breadth=int(input(\"Breadth:\"))\n",
    "    print(\"Area formula:(Height*Breadth/2)\")\n",
    "    message=\"Area formula:(Height*Breadth/2)\"\n",
    "    Area_formula=(Height*Breadth)/2\n",
    "    print(\"Area of Triangle:\", Area_formula)\n",
    "    message=\"Area of Triangle:\", Area_formula\n",
    "    Height1=int(input(\"Height1:\"))\n",
    "    Height2=int(input(\"Height2:\"))\n",
    "    Breadth=int(input(\"Breadth:\"))\n",
    "    print(\"perimeter_formula:(Height1+Height2+Breadth)\")\n",
    "    message=\"perimeter_formula:(Height1+Height2+Breadth)\"\n",
    "    perimeter_formula=(Height1+Height2+Breadth)\n",
    "    print(\"Perimeter of Triangle:\",perimeter_formula)\n",
    "    message=\"Perimeter of Triangle:\",perimeter_formula\n",
    "    return triangle"
   ]
  },
  {
   "cell_type": "code",
   "execution_count": 29,
   "id": "f1cde47d",
   "metadata": {},
   "outputs": [
    {
     "name": "stdout",
     "output_type": "stream",
     "text": [
      "Height:32\n",
      "Breadth:34\n",
      "Area formula:(Height*Breadth/2)\n",
      "Area of Triangle: 544.0\n",
      "Height1:2\n",
      "Height2:4\n",
      "Breadth:4\n",
      "perimeter_formula:(Height1+Height2+Breadth)\n",
      "Perimeter of Triangle: 10\n"
     ]
    }
   ],
   "source": [
    "tri=triangle()"
   ]
  },
  {
   "cell_type": "code",
   "execution_count": 30,
   "id": "bc985aed",
   "metadata": {},
   "outputs": [
    {
     "name": "stdout",
     "output_type": "stream",
     "text": [
      "<function triangle at 0x000002CF29F72020>\n"
     ]
    }
   ],
   "source": [
    "print(tri)"
   ]
  },
  {
   "cell_type": "code",
   "execution_count": null,
   "id": "3b952c0e",
   "metadata": {},
   "outputs": [],
   "source": []
  }
 ],
 "metadata": {
  "kernelspec": {
   "display_name": "Python 3 (ipykernel)",
   "language": "python",
   "name": "python3"
  },
  "language_info": {
   "codemirror_mode": {
    "name": "ipython",
    "version": 3
   },
   "file_extension": ".py",
   "mimetype": "text/x-python",
   "name": "python",
   "nbconvert_exporter": "python",
   "pygments_lexer": "ipython3",
   "version": "3.11.5"
  }
 },
 "nbformat": 4,
 "nbformat_minor": 5
}
