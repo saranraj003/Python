{
 "cells": [
  {
   "cell_type": "code",
   "execution_count": 1,
   "id": "7b752007",
   "metadata": {},
   "outputs": [],
   "source": [
    "def Subfield():\n",
    "    Lists=[\"Sub-field in AI are:\",\"Machine learning\",\"Nural network\",\"Vision\",\"Robotics\",\"Speech processing\",\"Natural language processing\"]\n",
    "    for i in Lists:\n",
    "        print(i)\n",
    "        message=\"i\"\n",
    "    return message"
   ]
  },
  {
   "cell_type": "code",
   "execution_count": 2,
   "id": "e55e8b15",
   "metadata": {},
   "outputs": [
    {
     "name": "stdout",
     "output_type": "stream",
     "text": [
      "Sub-field in AI are:\n",
      "Machine learning\n",
      "Nural network\n",
      "Vision\n",
      "Robotics\n",
      "Speech processing\n",
      "Natural language processing\n"
     ]
    }
   ],
   "source": [
    "subfield=Subfield()"
   ]
  },
  {
   "cell_type": "code",
   "execution_count": 3,
   "id": "106defbf",
   "metadata": {},
   "outputs": [],
   "source": [
    "def OddEven():\n",
    "    num=int(input(\"Enter a number:\"))\n",
    "    if (num%2==0):\n",
    "        print(num, \"is Even number\")\n",
    "        message=\"Even number\"\n",
    "    else:\n",
    "        print(num, \"is odd number\")\n",
    "        message=\"odd numer\"\n",
    "    return message"
   ]
  },
  {
   "cell_type": "code",
   "execution_count": 4,
   "id": "08fc5ee9",
   "metadata": {},
   "outputs": [
    {
     "name": "stdout",
     "output_type": "stream",
     "text": [
      "Enter a number:52452\n",
      "52452 is Even number\n"
     ]
    }
   ],
   "source": [
    "OddEven=OddEven()"
   ]
  },
  {
   "cell_type": "code",
   "execution_count": 23,
   "id": "ef5a271a",
   "metadata": {},
   "outputs": [],
   "source": [
    "def Eligibleformarriage():\n",
    "    gender=input(\"Your gender:\")\n",
    "    age=int(input(\"Your age:\"))\n",
    "    if(gender=='Male' and age>=21 or gender=='Female' and age>=18):\n",
    "        print(\"ELIGIBLE\")\n",
    "        message=\"ELIGIBLE\"\n",
    "    else:\n",
    "        print(\"NOT ELIGIBLE\")\n",
    "        message=\"NOT ELIGIBLE\"\n",
    "    return message"
   ]
  },
  {
   "cell_type": "code",
   "execution_count": 24,
   "id": "44729595",
   "metadata": {},
   "outputs": [
    {
     "name": "stdout",
     "output_type": "stream",
     "text": [
      "Your gender:Male\n",
      "Your age:20\n",
      "NOT ELIGIBLE\n"
     ]
    }
   ],
   "source": [
    "eligible=Eligibleformarriage()"
   ]
  },
  {
   "cell_type": "code",
   "execution_count": 14,
   "id": "5d21e54a",
   "metadata": {},
   "outputs": [],
   "source": [
    "def Percentage():\n",
    "    mark1=int(input(\"Subject1=\"))\n",
    "    mark2=int(input(\"Subject2=\"))\n",
    "    mark3=int(input(\"Subject3=\"))\n",
    "    mark4=int(input(\"Subject4=\"))\n",
    "    mark5=int(input(\"Subject5=\"))\n",
    "    total=(mark1+mark2+mark3+mark4+mark5)\n",
    "    print(\"Total:\",total)\n",
    "    percentage=(float(total/500)*100)\n",
    "    print(\"Percentage:\",percentage)\n",
    "    return Percentage"
   ]
  },
  {
   "cell_type": "code",
   "execution_count": 15,
   "id": "9b288f6e",
   "metadata": {},
   "outputs": [
    {
     "name": "stdout",
     "output_type": "stream",
     "text": [
      "Subject1=98\n",
      "Subject2=87\n",
      "Subject3=95\n",
      "Subject4=95\n",
      "Subject5=93\n",
      "Total: 468\n",
      "Percentage: 93.60000000000001\n"
     ]
    }
   ],
   "source": [
    "per=Percentage()"
   ]
  },
  {
   "cell_type": "code",
   "execution_count": 27,
   "id": "ef83e235",
   "metadata": {},
   "outputs": [],
   "source": [
    "def triangle():\n",
    "    Height=int(input(\"Height:\"))\n",
    "    Breadth=int(input(\"Breadth:\"))\n",
    "    print(\"Area formula:(Height*Breadth/2)\")\n",
    "    Area_formula=(Height*Breadth)/2\n",
    "    print(\"Area of Triangle:\", Area_formula)\n",
    "    Height1=int(input(\"Height1:\"))\n",
    "    Height2=int(input(\"Height2:\"))\n",
    "    Breadth=int(input(\"Breadth:\"))\n",
    "    print(\"perimeter formula:(Height1+Height2+Breadth)\")\n",
    "    Perimeter_formula=(Height1+Height2+Breadth)\n",
    "    print(\"Perimeter of Triangle:\",Perimeter_formula)\n",
    "    return Area_formula\n",
    "      "
   ]
  },
  {
   "cell_type": "code",
   "execution_count": 28,
   "id": "3fafb4a8",
   "metadata": {},
   "outputs": [
    {
     "name": "stdout",
     "output_type": "stream",
     "text": [
      "Height:32\n",
      "Breadth:34\n",
      "Area formula:(Height*Breadth/2)\n",
      "Area of Triangle: 544.0\n",
      "Height1:2\n",
      "Height2:4\n",
      "Breadth:4\n",
      "perimeter formula:(Height1+Height2+Breadth)\n",
      "Perimeter of Triangle: 10\n"
     ]
    }
   ],
   "source": [
    "tri=triangle()"
   ]
  },
  {
   "cell_type": "code",
   "execution_count": 29,
   "id": "ebae9243",
   "metadata": {},
   "outputs": [
    {
     "name": "stdout",
     "output_type": "stream",
     "text": [
      "544.0\n"
     ]
    }
   ],
   "source": [
    "print(tri)"
   ]
  },
  {
   "cell_type": "code",
   "execution_count": null,
   "id": "27f182be",
   "metadata": {},
   "outputs": [],
   "source": []
  }
 ],
 "metadata": {
  "kernelspec": {
   "display_name": "Python 3 (ipykernel)",
   "language": "python",
   "name": "python3"
  },
  "language_info": {
   "codemirror_mode": {
    "name": "ipython",
    "version": 3
   },
   "file_extension": ".py",
   "mimetype": "text/x-python",
   "name": "python",
   "nbconvert_exporter": "python",
   "pygments_lexer": "ipython3",
   "version": "3.11.5"
  }
 },
 "nbformat": 4,
 "nbformat_minor": 5
}
