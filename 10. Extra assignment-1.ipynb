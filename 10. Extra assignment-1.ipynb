{
 "cells": [
  {
   "cell_type": "code",
   "execution_count": null,
   "id": "4cbfe886",
   "metadata": {},
   "outputs": [
    {
     "name": "stdout",
     "output_type": "stream",
     "text": [
      "HOPE AI\n"
     ]
    }
   ],
   "source": [
    "print(\"HOPE AI\")"
   ]
  },
  {
   "cell_type": "code",
   "execution_count": 2,
   "id": "672526f5",
   "metadata": {},
   "outputs": [
    {
     "name": "stdout",
     "output_type": "stream",
     "text": [
      "Enter your institue name?:HOPE AI\n"
     ]
    }
   ],
   "source": [
    "Name=input(\"Enter your institue name?:\")"
   ]
  },
  {
   "cell_type": "code",
   "execution_count": 3,
   "id": "318de5a9",
   "metadata": {},
   "outputs": [
    {
     "name": "stdout",
     "output_type": "stream",
     "text": [
      "Enter your name:saranraj\n",
      "Enter your age:35\n",
      "Enter your school name:MHSS karur\n",
      "Enter your Degree:B.E(EEE)\n"
     ]
    }
   ],
   "source": [
    "Name=input(\"Enter your name:\")\n",
    "Age=input(\"Enter your age:\")\n",
    "School=input(\"Enter your school name:\")\n",
    "Degree=input(\"Enter your Degree:\")"
   ]
  },
  {
   "cell_type": "code",
   "execution_count": 5,
   "id": "bbc6d402",
   "metadata": {},
   "outputs": [
    {
     "name": "stdout",
     "output_type": "stream",
     "text": [
      "a= 43\n",
      "b= 34\n",
      "add= 77\n"
     ]
    }
   ],
   "source": [
    "a=43\n",
    "print(\"a=\",a)\n",
    "b=34\n",
    "print(\"b=\",b)\n",
    "print(\"add=\",a+b)"
   ]
  },
  {
   "cell_type": "code",
   "execution_count": 8,
   "id": "8a0451ad",
   "metadata": {},
   "outputs": [
    {
     "name": "stdout",
     "output_type": "stream",
     "text": [
      "a= 43\n",
      "b= 34\n",
      "Sub= 9\n"
     ]
    }
   ],
   "source": [
    "a=43\n",
    "print(\"a=\",a)\n",
    "b=34\n",
    "print(\"b=\",b)\n",
    "print(\"Sub=\",a-b)"
   ]
  },
  {
   "cell_type": "code",
   "execution_count": 9,
   "id": "5e1c8939",
   "metadata": {},
   "outputs": [
    {
     "name": "stdout",
     "output_type": "stream",
     "text": [
      "a= 63\n",
      "b= 97\n",
      "Mul= 6111\n"
     ]
    }
   ],
   "source": [
    "a=63\n",
    "print(\"a=\",a)\n",
    "b=97\n",
    "print(\"b=\",b)\n",
    "print(\"Mul=\",a*b)"
   ]
  },
  {
   "cell_type": "code",
   "execution_count": 12,
   "id": "12ae739a",
   "metadata": {},
   "outputs": [
    {
     "name": "stdout",
     "output_type": "stream",
     "text": [
      "a= 76\n",
      "b= 31\n",
      "Float div= 2.4516129032258065\n"
     ]
    }
   ],
   "source": [
    "a=76\n",
    "print(\"a=\",a)\n",
    "b=31\n",
    "print(\"b=\",b)\n",
    "print(\"Float div=\",a/b)"
   ]
  },
  {
   "cell_type": "code",
   "execution_count": 14,
   "id": "b4c31c33",
   "metadata": {},
   "outputs": [
    {
     "name": "stdout",
     "output_type": "stream",
     "text": [
      "a= 76\n",
      "b= 31\n",
      "Floor div= 2\n"
     ]
    }
   ],
   "source": [
    "a=76\n",
    "print(\"a=\",a)\n",
    "b=31\n",
    "print(\"b=\",b)\n",
    "print(\"Floor div=\",a//b)"
   ]
  },
  {
   "cell_type": "code",
   "execution_count": 16,
   "id": "93f2b5f3",
   "metadata": {},
   "outputs": [
    {
     "name": "stdout",
     "output_type": "stream",
     "text": [
      "a= 76\n",
      "b= 31\n",
      "Modulo= 14\n"
     ]
    }
   ],
   "source": [
    "a=76\n",
    "print(\"a=\",a)\n",
    "b=31\n",
    "print(\"b=\",b)\n",
    "print(\"Modulo=\",a%b)"
   ]
  },
  {
   "cell_type": "code",
   "execution_count": 22,
   "id": "c8fae5ca",
   "metadata": {},
   "outputs": [
    {
     "name": "stdout",
     "output_type": "stream",
     "text": [
      "a= 4\n",
      "b= 4\n",
      "Power= 256\n"
     ]
    }
   ],
   "source": [
    "a=4\n",
    "print(\"a=\",a)\n",
    "b=4\n",
    "print(\"b=\",b)\n",
    "print(\"Power=\",(a**b))"
   ]
  }
 ],
 "metadata": {
  "kernelspec": {
   "display_name": "Python 3 (ipykernel)",
   "language": "python",
   "name": "python3"
  },
  "language_info": {
   "codemirror_mode": {
    "name": "ipython",
    "version": 3
   },
   "file_extension": ".py",
   "mimetype": "text/x-python",
   "name": "python",
   "nbconvert_exporter": "python",
   "pygments_lexer": "ipython3",
   "version": "3.11.5"
  }
 },
 "nbformat": 4,
 "nbformat_minor": 5
}
